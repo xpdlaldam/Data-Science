{
  "nbformat": 4,
  "nbformat_minor": 0,
  "metadata": {
    "colab": {
      "provenance": [],
      "authorship_tag": "ABX9TyOqfDIl58FppBq4uLizPdOq",
      "include_colab_link": true
    },
    "kernelspec": {
      "name": "python3",
      "display_name": "Python 3"
    },
    "language_info": {
      "name": "python"
    }
  },
  "cells": [
    {
      "cell_type": "markdown",
      "metadata": {
        "id": "view-in-github",
        "colab_type": "text"
      },
      "source": [
        "<a href=\"https://colab.research.google.com/github/xpdlaldam/data_science/blob/master/polars.ipynb\" target=\"_parent\"><img src=\"https://colab.research.google.com/assets/colab-badge.svg\" alt=\"Open In Colab\"/></a>"
      ]
    },
    {
      "cell_type": "code",
      "execution_count": 12,
      "metadata": {
        "id": "I6x40OEYyDJQ"
      },
      "outputs": [],
      "source": [
        "import polars as pl\n",
        "import datetime as dt\n",
        "from datetime import date"
      ]
    },
    {
      "cell_type": "code",
      "source": [
        "df = pl.DataFrame(\n",
        "    {\n",
        "        \"name\": [\"Alice Archer\", \"Ben Brown\", \"Chloe Cooper\", \"Daniel Donovan\"],\n",
        "        \"birthdate\": [\n",
        "            dt.date(1997, 1, 10),\n",
        "            dt.date(1985, 2, 15),\n",
        "            dt.date(1983, 3, 22),\n",
        "            dt.date(1981, 4, 30),\n",
        "        ],\n",
        "        \"weight\": [57.9, 72.5, 53.6, 83.1],  # (kg)\n",
        "        \"height\": [1.56, 1.77, 1.65, 1.75],  # (m)\n",
        "    }\n",
        ")\n",
        "df"
      ],
      "metadata": {
        "colab": {
          "base_uri": "https://localhost:8080/",
          "height": 223
        },
        "id": "ZyzqtPqv0sHU",
        "outputId": "70fe84e1-c594-44d9-8b77-d4e7d048dee1"
      },
      "execution_count": 3,
      "outputs": [
        {
          "output_type": "execute_result",
          "data": {
            "text/plain": [
              "shape: (4, 4)\n",
              "┌────────────────┬────────────┬────────┬────────┐\n",
              "│ name           ┆ birthdate  ┆ weight ┆ height │\n",
              "│ ---            ┆ ---        ┆ ---    ┆ ---    │\n",
              "│ str            ┆ date       ┆ f64    ┆ f64    │\n",
              "╞════════════════╪════════════╪════════╪════════╡\n",
              "│ Alice Archer   ┆ 1997-01-10 ┆ 57.9   ┆ 1.56   │\n",
              "│ Ben Brown      ┆ 1985-02-15 ┆ 72.5   ┆ 1.77   │\n",
              "│ Chloe Cooper   ┆ 1983-03-22 ┆ 53.6   ┆ 1.65   │\n",
              "│ Daniel Donovan ┆ 1981-04-30 ┆ 83.1   ┆ 1.75   │\n",
              "└────────────────┴────────────┴────────┴────────┘"
            ],
            "text/html": [
              "<div><style>\n",
              ".dataframe > thead > tr,\n",
              ".dataframe > tbody > tr {\n",
              "  text-align: right;\n",
              "  white-space: pre-wrap;\n",
              "}\n",
              "</style>\n",
              "<small>shape: (4, 4)</small><table border=\"1\" class=\"dataframe\"><thead><tr><th>name</th><th>birthdate</th><th>weight</th><th>height</th></tr><tr><td>str</td><td>date</td><td>f64</td><td>f64</td></tr></thead><tbody><tr><td>&quot;Alice Archer&quot;</td><td>1997-01-10</td><td>57.9</td><td>1.56</td></tr><tr><td>&quot;Ben Brown&quot;</td><td>1985-02-15</td><td>72.5</td><td>1.77</td></tr><tr><td>&quot;Chloe Cooper&quot;</td><td>1983-03-22</td><td>53.6</td><td>1.65</td></tr><tr><td>&quot;Daniel Donovan&quot;</td><td>1981-04-30</td><td>83.1</td><td>1.75</td></tr></tbody></table></div>"
            ]
          },
          "metadata": {},
          "execution_count": 3
        }
      ]
    },
    {
      "cell_type": "code",
      "source": [
        "bmi_expr = pl.col(\"weight\") / (pl.col(\"height\") ** 2)\n",
        "bmi_expr # because expressions are lazy, no computation is implemented yet. Polars expressions need a context in which they are executed to produce a result"
      ],
      "metadata": {
        "colab": {
          "base_uri": "https://localhost:8080/",
          "height": 34
        },
        "id": "6hpsXPf603cc",
        "outputId": "862605ec-c2f4-4106-ce3e-433885f9823c"
      },
      "execution_count": 5,
      "outputs": [
        {
          "output_type": "execute_result",
          "data": {
            "text/plain": [
              "<Expr ['[(col(\"weight\")) / (col(\"heigh…'] at 0x7EB93F67E6E0>"
            ],
            "text/html": [
              "[(col(\"weight\")) / (col(\"height\").pow([dyn int: 2]))]"
            ]
          },
          "metadata": {},
          "execution_count": 5
        }
      ]
    },
    {
      "cell_type": "code",
      "source": [
        "result_select = df.select(\n",
        "    bmi=bmi_expr,\n",
        ")\n",
        "result_select"
      ],
      "metadata": {
        "colab": {
          "base_uri": "https://localhost:8080/",
          "height": 223
        },
        "id": "DyZONtgK3fO_",
        "outputId": "393d31aa-bf32-4521-91b7-4294da545589"
      },
      "execution_count": 10,
      "outputs": [
        {
          "output_type": "execute_result",
          "data": {
            "text/plain": [
              "shape: (4, 1)\n",
              "┌───────────┐\n",
              "│ bmi       │\n",
              "│ ---       │\n",
              "│ f64       │\n",
              "╞═══════════╡\n",
              "│ 23.791913 │\n",
              "│ 23.141498 │\n",
              "│ 19.687787 │\n",
              "│ 27.134694 │\n",
              "└───────────┘"
            ],
            "text/html": [
              "<div><style>\n",
              ".dataframe > thead > tr,\n",
              ".dataframe > tbody > tr {\n",
              "  text-align: right;\n",
              "  white-space: pre-wrap;\n",
              "}\n",
              "</style>\n",
              "<small>shape: (4, 1)</small><table border=\"1\" class=\"dataframe\"><thead><tr><th>bmi</th></tr><tr><td>f64</td></tr></thead><tbody><tr><td>23.791913</td></tr><tr><td>23.141498</td></tr><tr><td>19.687787</td></tr><tr><td>27.134694</td></tr></tbody></table></div>"
            ]
          },
          "metadata": {},
          "execution_count": 10
        }
      ]
    },
    {
      "cell_type": "code",
      "source": [
        "df_new = df.with_columns(\n",
        "    bmi=bmi_expr,\n",
        ")\n",
        "df_new"
      ],
      "metadata": {
        "colab": {
          "base_uri": "https://localhost:8080/",
          "height": 223
        },
        "id": "_i97vHd65X3G",
        "outputId": "153ac397-2257-4a79-bec6-5f28eb3c3009"
      },
      "execution_count": 11,
      "outputs": [
        {
          "output_type": "execute_result",
          "data": {
            "text/plain": [
              "shape: (4, 5)\n",
              "┌────────────────┬────────────┬────────┬────────┬───────────┐\n",
              "│ name           ┆ birthdate  ┆ weight ┆ height ┆ bmi       │\n",
              "│ ---            ┆ ---        ┆ ---    ┆ ---    ┆ ---       │\n",
              "│ str            ┆ date       ┆ f64    ┆ f64    ┆ f64       │\n",
              "╞════════════════╪════════════╪════════╪════════╪═══════════╡\n",
              "│ Alice Archer   ┆ 1997-01-10 ┆ 57.9   ┆ 1.56   ┆ 23.791913 │\n",
              "│ Ben Brown      ┆ 1985-02-15 ┆ 72.5   ┆ 1.77   ┆ 23.141498 │\n",
              "│ Chloe Cooper   ┆ 1983-03-22 ┆ 53.6   ┆ 1.65   ┆ 19.687787 │\n",
              "│ Daniel Donovan ┆ 1981-04-30 ┆ 83.1   ┆ 1.75   ┆ 27.134694 │\n",
              "└────────────────┴────────────┴────────┴────────┴───────────┘"
            ],
            "text/html": [
              "<div><style>\n",
              ".dataframe > thead > tr,\n",
              ".dataframe > tbody > tr {\n",
              "  text-align: right;\n",
              "  white-space: pre-wrap;\n",
              "}\n",
              "</style>\n",
              "<small>shape: (4, 5)</small><table border=\"1\" class=\"dataframe\"><thead><tr><th>name</th><th>birthdate</th><th>weight</th><th>height</th><th>bmi</th></tr><tr><td>str</td><td>date</td><td>f64</td><td>f64</td><td>f64</td></tr></thead><tbody><tr><td>&quot;Alice Archer&quot;</td><td>1997-01-10</td><td>57.9</td><td>1.56</td><td>23.791913</td></tr><tr><td>&quot;Ben Brown&quot;</td><td>1985-02-15</td><td>72.5</td><td>1.77</td><td>23.141498</td></tr><tr><td>&quot;Chloe Cooper&quot;</td><td>1983-03-22</td><td>53.6</td><td>1.65</td><td>19.687787</td></tr><tr><td>&quot;Daniel Donovan&quot;</td><td>1981-04-30</td><td>83.1</td><td>1.75</td><td>27.134694</td></tr></tbody></table></div>"
            ]
          },
          "metadata": {},
          "execution_count": 11
        }
      ]
    },
    {
      "cell_type": "code",
      "source": [
        "result_filter = df.filter(\n",
        "    pl.col(\"birthdate\").is_between(date(1982, 12, 31), date(1996, 1, 1)),\n",
        "    pl.col(\"height\") > 1.7,\n",
        ")\n",
        "result_filter"
      ],
      "metadata": {
        "colab": {
          "base_uri": "https://localhost:8080/",
          "height": 129
        },
        "id": "Xfq7LHYv8szq",
        "outputId": "679773c7-6601-41a4-fdb0-737d5fe1bb80"
      },
      "execution_count": 13,
      "outputs": [
        {
          "output_type": "execute_result",
          "data": {
            "text/plain": [
              "shape: (1, 4)\n",
              "┌───────────┬────────────┬────────┬────────┐\n",
              "│ name      ┆ birthdate  ┆ weight ┆ height │\n",
              "│ ---       ┆ ---        ┆ ---    ┆ ---    │\n",
              "│ str       ┆ date       ┆ f64    ┆ f64    │\n",
              "╞═══════════╪════════════╪════════╪════════╡\n",
              "│ Ben Brown ┆ 1985-02-15 ┆ 72.5   ┆ 1.77   │\n",
              "└───────────┴────────────┴────────┴────────┘"
            ],
            "text/html": [
              "<div><style>\n",
              ".dataframe > thead > tr,\n",
              ".dataframe > tbody > tr {\n",
              "  text-align: right;\n",
              "  white-space: pre-wrap;\n",
              "}\n",
              "</style>\n",
              "<small>shape: (1, 4)</small><table border=\"1\" class=\"dataframe\"><thead><tr><th>name</th><th>birthdate</th><th>weight</th><th>height</th></tr><tr><td>str</td><td>date</td><td>f64</td><td>f64</td></tr></thead><tbody><tr><td>&quot;Ben Brown&quot;</td><td>1985-02-15</td><td>72.5</td><td>1.77</td></tr></tbody></table></div>"
            ]
          },
          "metadata": {},
          "execution_count": 13
        }
      ]
    },
    {
      "cell_type": "code",
      "source": [
        "## name by decade & whether height > 1.7\n",
        "result_groupby = df.group_by(\n",
        "    (pl.col(\"birthdate\").dt.year() // 10 * 10).alias(\"decade\"),\n",
        "    (pl.col(\"height\") < 1.7).alias(\"short?\"),\n",
        ").agg(pl.col(\"name\"))\n",
        "result_groupby"
      ],
      "metadata": {
        "id": "KO4HYdmg-44j"
      },
      "execution_count": null,
      "outputs": []
    }
  ]
}